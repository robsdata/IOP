{
 "cells": [
  {
   "cell_type": "markdown",
   "metadata": {},
   "source": [
    "# Metodo Simplex\n",
    "\n",
    "El método Simplex es un algoritmo ampliamente utilizado en matemáticas y ciencias de la computación para resolver problemas de programación lineal. Fue desarrollado por George Dantzig en la década de 1940 y se ha convertido en uno de los métodos más importantes y efectivos para encontrar soluciones óptimas en problemas de optimización lineal.\n",
    "\n",
    "Un problema de programación lineal es un tipo de problema de optimización en el que se busca maximizar o minimizar una función lineal de múltiples variables sujetas a un conjunto de restricciones lineales. \n",
    "\n",
    "La forma estándar de un problema de programación lineal es:\n",
    "\n",
    "Maximizar (o minimizar) Z = c₁x₁ + c₂x₂ + ... + cₙxₙ\n",
    "\n",
    "Sujeto a:\n",
    "- a₁₁x₁ + a₁₂x₂ + ... + a₁ₙxₙ ≤ b₁\n",
    "- a₂₁x₁ + a₂₂x₂ + ... + a₂ₙxₙ ≤ b₂\n",
    "- ...\n",
    "- aₘ₁x₁ + aₘ₂x₂ + ... + aₘₙxₙ ≤ bₘ\n",
    "- x₁, x₂, ..., xₙ ≥ 0\n",
    "\n",
    "Donde:\n",
    "- Z es la función objetivo que se desea maximizar o minimizar.\n",
    "- c₁, c₂, ..., cₙ son coeficientes de la función objetivo.\n",
    "- x₁, x₂, ..., xₙ son las variables de decisión.\n",
    "- a₁₁, a₁₂, ..., aₘₙ son coeficientes de las restricciones.\n",
    "- b₁, b₂, ..., bₘ son los lados derecho de las restricciones.\n",
    "- m es el número de restricciones.\n",
    "- n es el número de variables de decisión.\n",
    "\n",
    "El método Simplex se utiliza para encontrar el valor óptimo de las variables de decisión (x₁, x₂, ..., xₙ) que maximiza o minimiza la función objetivo Z, sujeto a las restricciones dadas. El algoritmo comienza con una solución inicial y, a través de una serie de iteraciones, se mueve hacia la solución óptima explorando vértices del espacio de soluciones factibles.\n",
    "\n",
    "El método Simplex es especialmente eficiente para resolver problemas de programación lineal de tamaño moderado a grande y se ha convertido en una herramienta esencial en campos como la economía, la ingeniería, la logística y la gestión de operaciones, entre otros."
   ]
  }
 ],
 "metadata": {
  "kernelspec": {
   "display_name": "Python 3",
   "language": "python",
   "name": "python3"
  },
  "language_info": {
   "codemirror_mode": {
    "name": "ipython",
    "version": 3
   },
   "file_extension": ".py",
   "mimetype": "text/x-python",
   "name": "python",
   "nbconvert_exporter": "python",
   "pygments_lexer": "ipython3",
   "version": "3.11.5"
  },
  "orig_nbformat": 4
 },
 "nbformat": 4,
 "nbformat_minor": 2
}
