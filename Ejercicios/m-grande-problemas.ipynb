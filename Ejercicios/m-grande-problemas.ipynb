{
 "cells": [
  {
   "cell_type": "markdown",
   "metadata": {},
   "source": [
    "\n",
    "## Indicación:\n",
    "La metodología a seguir en **Tarea 2 – parte 1** (5% de nota Calificación \n",
    "P2 equivale a 3.3 puntos) es que, cada estudiante resolverá los \n",
    "problemas/ejercicios, utilizando el software **PHPsimplex** y **Calculadora del método \n",
    "de la M grande**, atendiendo lo indicado en cada problema o ejercicio.\n",
    "Una vez finalizada la **Tarea 2 - parte 1**, cada estudiante tendrá que seleccionar \n",
    "procedimiento, iteraciones, y respuesta en *Link – Contestar Tarea 2 parte 1- P2*. \n",
    "Cierre de la actividad: **01 de octubre de 2023**.\n",
    "> Sugerencia: es importante que estudie la teoría, luego revise los ejemplos y por \n",
    "último, intente resolver el problema y los ejercicios.\n",
    "\n",
    "## Objetivos de la investigación:\n",
    "- Utilizar el libro electrónico o impreso de Taha H., (2004). *Investigación de \n",
    "Operaciones, 7a Edición*. México, Pearson, Prentice Hall (pasta roja), con el \n",
    "propósito de hacer un viaje entre las páginas del libro en la búsqueda de \n",
    "problemas y ejercicios, realizando de esta forma una sorprendente \n",
    "investigación bibliográfica relacionado a programación lineal.\n",
    "- Hacer una exploración en la inmensidad de información en línea, vamos a \n",
    "buscar el software indicado para resolver cada problema/ejercicio.\n",
    "- Captura de pantalla haciendo uso del software (que se vea usuario).\n"
   ]
  },
  {
   "cell_type": "markdown",
   "metadata": {},
   "source": [
    "\n",
    "\n",
    "## EJERCICIO 1\n",
    "\n",
    "\n",
    "### Planteamiento del problema:\n",
    "\n",
    "**Variables de decisión**:\n",
    "1. x1: Toneladas de azúcar morena producidas.\n",
    "2. x2: Toneladas de melaza producida.\n",
    "3. x3: Toneladas de azúcar blanca producida a partir de azúcar morena.\n",
    "4. x4: Toneladas de azúcar glas producida a partir de azúcar blanca.\n",
    "\n",
    "Función Objetivo (Maximizar ganancias):\n",
    "Z = 150x1 + 200x2 + 230x3 + 35x4\n",
    "\n",
    "**Restricciones**:\n",
    "\n",
    "1. Producción de azúcar morena y melaza a partir de guarapo: \n",
    "0.3x1 + 0.1x2 <= 4000\n",
    "\n",
    "2. Producción de azúcar blanca a partir de azúcar morena: x1 >= 0.8x3\n",
    "\n",
    "3. Producción de azúcar glas a partir de azúcar blanca (con eficiencia del 95%): 0.95x3 >= x4\n",
    "\n",
    "4. Entrega mínima semanal para cada tipo de azúcar:\n",
    "x1 >= 25\n",
    "x2 >= 25\n",
    "x3 >= 25\n",
    "x4 >= 25"
   ]
  },
  {
   "cell_type": "markdown",
   "metadata": {},
   "source": [
    "## EJERCICIO 2\n",
    "\n",
    "Se busca maximizar la función objetivo:\n",
    "\n",
    "z = -x1 + x2 + 3x3 + 2x4\n",
    "\n",
    "sujeto a las restricciones:\n",
    "\n",
    "- x1 + 2x2 - 3x3 + 5x4 <= 4\n",
    "- 5x1 - 2x2 + 6x4 \\<= 8\n",
    "- 2x1 + 3x2 - 2x3 + 3x_4 <= 3\n",
    "- -x1 + x3 + 2x4 <= 0\n",
    "\n",
    "y todas las variables x1, x2, x3, x4 son no negativas."
   ]
  },
  {
   "cell_type": "markdown",
   "metadata": {},
   "source": [
    "\n",
    "- **Número de variables de decisión**: 4 (es decir, x1, x2, x3, x4)\n",
    "- **Número de restricciones**: 4"
   ]
  },
  {
   "cell_type": "markdown",
   "metadata": {},
   "source": [
    "**Función Objetivo:**\n",
    "Maximizar:\n",
    "Z = -x1 + x2 + 3x3 + 2x4\n",
    "\n",
    "**Restricciones:**\n",
    "1. x1 + 2x2 - 3x3 + 5x4 <= 4\n",
    "2. 5x1 - 2x2 + 6x4 <= 8\n",
    "3. 2x1 + 3x2 - 2x3 + 3x4 <= 3\n",
    "4. -x1 + x3 + 2x4 <= 0\n",
    "\n",
    "Todas las variables x1, x2, x3, x4 son  >=  0 (no negativas). "
   ]
  }
 ],
 "metadata": {
  "language_info": {
   "name": "python"
  },
  "orig_nbformat": 4
 },
 "nbformat": 4,
 "nbformat_minor": 2
}
